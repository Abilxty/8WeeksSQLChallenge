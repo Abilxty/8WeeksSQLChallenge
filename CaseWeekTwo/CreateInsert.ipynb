{
    "metadata": {
        "kernelspec": {
            "name": "SQL",
            "display_name": "SQL",
            "language": "sql"
        },
        "language_info": {
            "name": "sql",
            "version": ""
        }
    },
    "nbformat_minor": 2,
    "nbformat": 4,
    "cells": [
        {
            "cell_type": "code",
            "source": [
                "CREATE DATABASE week2"
            ],
            "metadata": {
                "azdata_cell_guid": "384ca68d-bfdd-4b64-95c5-da42e9c0cb6e"
            },
            "outputs": [
                {
                    "output_type": "error",
                    "ename": "",
                    "evalue": "Msg 1801, Level 16, State 3, Line 1\r\nDatabase 'week2' already exists. Choose a different database name.",
                    "traceback": []
                },
                {
                    "output_type": "display_data",
                    "data": {
                        "text/html": "Total execution time: 00:00:00.002"
                    },
                    "metadata": {}
                }
            ],
            "execution_count": 2
        },
        {
            "cell_type": "markdown",
            "source": [
                ""
            ],
            "metadata": {
                "azdata_cell_guid": "994f5e5a-db9b-4158-86ee-871c65843839"
            }
        },
        {
            "cell_type": "code",
            "source": [
                "DROP TABLE IF EXISTS  dbo.customer_orders"
            ],
            "metadata": {
                "azdata_cell_guid": "263291a8-e780-412a-96b1-f6f2fb45f889"
            },
            "outputs": [
                {
                    "output_type": "display_data",
                    "data": {
                        "text/html": "Commands completed successfully."
                    },
                    "metadata": {}
                },
                {
                    "output_type": "display_data",
                    "data": {
                        "text/html": "Total execution time: 00:00:00.002"
                    },
                    "metadata": {}
                }
            ],
            "execution_count": 1
        },
        {
            "cell_type": "code",
            "source": [
                "USE week2;\r\n",
                "\r\n",
                "DROP TABLE IF EXISTS runners;\r\n",
                "CREATE TABLE runners (\r\n",
                "  \"runner_id\" INTEGER,\r\n",
                "  \"registration_date\" DATETIME2\r\n",
                ");\r\n",
                "INSERT INTO runners\r\n",
                "  (\"runner_id\", \"registration_date\")\r\n",
                "VALUES\r\n",
                "  (1, '2021-01-01'),\r\n",
                "  (2, '2021-01-03'),\r\n",
                "  (3, '2021-01-08'),\r\n",
                "  (4, '2021-01-15');\r\n",
                "\r\n",
                "\r\n",
                "DROP TABLE IF EXISTS dbo.customer_orders;\r\n",
                "CREATE TABLE customer_orders (\r\n",
                "  \"order_id\" INTEGER,\r\n",
                "  \"customer_id\" INTEGER,\r\n",
                "  \"pizza_id\" INTEGER,\r\n",
                "  \"exclusions\" VARCHAR(4),\r\n",
                "  \"extras\" VARCHAR(4),\r\n",
                "  \"order_time\" DATETIME2\r\n",
                ");\r\n",
                "\r\n",
                "INSERT INTO customer_orders\r\n",
                "  (\"order_id\", \"customer_id\", \"pizza_id\", \"exclusions\", \"extras\", \"order_time\")\r\n",
                "VALUES\r\n",
                "  ('1', '101', '1', '', '', '2020-01-01 18:05:02'),\r\n",
                "  ('2', '101', '1', '', '', '2020-01-01 19:00:52'),\r\n",
                "  ('3', '102', '1', '', '', '2020-01-02 12:51:23'),\r\n",
                "  ('3', '102', '2', '', NULL, '2020-01-02 12:51:23'),\r\n",
                "  ('4', '103', '1', '4', '', '2020-01-04 13:23:46'),\r\n",
                "  ('4', '103', '1', '4', '', '2020-01-04 13:23:46'),\r\n",
                "  ('4', '103', '2', '4', '', '2020-01-04 13:23:46'),\r\n",
                "  ('5', '104', '1', 'null', '1', '2020-01-08 21:00:29'),\r\n",
                "  ('6', '101', '2', 'null', 'null', '2020-01-08 21:03:13'),\r\n",
                "  ('7', '105', '2', 'null', '1', '2020-01-08 21:20:29'),\r\n",
                "  ('8', '102', '1', 'null', 'null', '2020-01-09 23:54:33'),\r\n",
                "  ('9', '103', '1', '4', '1, 5', '2020-01-10 11:22:59'),\r\n",
                "  ('10', '104', '1', 'null', 'null', '2020-01-11 18:34:49'),\r\n",
                "  ('10', '104', '1', '2, 6', '1, 4', '2020-01-11 18:34:49');\r\n",
                "\r\n",
                "\r\n",
                "DROP TABLE IF EXISTS runner_orders;\r\n",
                "CREATE TABLE runner_orders (\r\n",
                "  \"order_id\" INTEGER,\r\n",
                "  \"runner_id\" INTEGER,\r\n",
                "  \"pickup_time\" VARCHAR(19),\r\n",
                "  \"distance\" VARCHAR(7),\r\n",
                "  \"duration\" VARCHAR(10),\r\n",
                "  \"cancellation\" VARCHAR(23)\r\n",
                ");\r\n",
                "\r\n",
                "INSERT INTO runner_orders\r\n",
                "  (\"order_id\", \"runner_id\", \"pickup_time\", \"distance\", \"duration\", \"cancellation\")\r\n",
                "VALUES\r\n",
                "  ('1', '1', '2020-01-01 18:15:34', '20km', '32 minutes', ''),\r\n",
                "  ('2', '1', '2020-01-01 19:10:54', '20km', '27 minutes', ''),\r\n",
                "  ('3', '1', '2020-01-02 00:12:37', '13.4km', '20 mins', NULL),\r\n",
                "  ('4', '2', '2020-01-04 13:53:03', '23.4', '40', NULL),\r\n",
                "  ('5', '3', '2020-01-08 21:10:57', '10', '15', NULL),\r\n",
                "  ('6', '3', 'null', 'null', 'null', 'Restaurant Cancellation'),\r\n",
                "  ('7', '2', '2020-01-08 21:30:45', '25km', '25mins', 'null'),\r\n",
                "  ('8', '2', '2020-01-10 00:15:02', '23.4 km', '15 minute', 'null'),\r\n",
                "  ('9', '2', 'null', 'null', 'null', 'Customer Cancellation'),\r\n",
                "  ('10', '1', '2020-01-11 18:50:20', '10km', '10minutes', 'null');\r\n",
                "\r\n",
                "\r\n",
                "DROP TABLE IF EXISTS pizza_names;\r\n",
                "CREATE TABLE pizza_names (\r\n",
                "  \"pizza_id\" INTEGER,\r\n",
                "  \"pizza_name\" VARCHAR(MAX)\r\n",
                ");\r\n",
                "INSERT INTO pizza_names\r\n",
                "  (\"pizza_id\", \"pizza_name\")\r\n",
                "VALUES\r\n",
                "  (1, 'Meatlovers'),\r\n",
                "  (2, 'Vegetarian');\r\n",
                "\r\n",
                "\r\n",
                "DROP TABLE IF EXISTS pizza_recipes;\r\n",
                "CREATE TABLE pizza_recipes (\r\n",
                "  \"pizza_id\" INTEGER,\r\n",
                "  \"toppings\" VARCHAR(MAX)\r\n",
                ");\r\n",
                "INSERT INTO pizza_recipes\r\n",
                "  (\"pizza_id\", \"toppings\")\r\n",
                "VALUES\r\n",
                "  (1, '1, 2, 3, 4, 5, 6, 8, 10'),\r\n",
                "  (2, '4, 6, 7, 9, 11, 12');\r\n",
                "\r\n",
                "\r\n",
                "DROP TABLE IF EXISTS pizza_toppings;\r\n",
                "CREATE TABLE pizza_toppings (\r\n",
                "  \"topping_id\" INTEGER,\r\n",
                "  \"topping_name\" VARCHAR(MAX)\r\n",
                ");\r\n",
                "INSERT INTO pizza_toppings\r\n",
                "  (\"topping_id\", \"topping_name\")\r\n",
                "VALUES\r\n",
                "  (1, 'Bacon'),\r\n",
                "  (2, 'BBQ Sauce'),\r\n",
                "  (3, 'Beef'),\r\n",
                "  (4, 'Cheese'),\r\n",
                "  (5, 'Chicken'),\r\n",
                "  (6, 'Mushrooms'),\r\n",
                "  (7, 'Onions'),\r\n",
                "  (8, 'Pepperoni'),\r\n",
                "  (9, 'Peppers'),\r\n",
                "  (10, 'Salami'),\r\n",
                "  (11, 'Tomatoes'),\r\n",
                "  (12, 'Tomato Sauce');"
            ],
            "metadata": {
                "azdata_cell_guid": "d6ba20c7-0f92-4efb-a285-4a97219ec877"
            },
            "outputs": [
                {
                    "output_type": "display_data",
                    "data": {
                        "text/html": "(4 rows affected)"
                    },
                    "metadata": {}
                },
                {
                    "output_type": "display_data",
                    "data": {
                        "text/html": "(14 rows affected)"
                    },
                    "metadata": {}
                },
                {
                    "output_type": "display_data",
                    "data": {
                        "text/html": "(10 rows affected)"
                    },
                    "metadata": {}
                },
                {
                    "output_type": "display_data",
                    "data": {
                        "text/html": "(2 rows affected)"
                    },
                    "metadata": {}
                },
                {
                    "output_type": "display_data",
                    "data": {
                        "text/html": "(2 rows affected)"
                    },
                    "metadata": {}
                },
                {
                    "output_type": "display_data",
                    "data": {
                        "text/html": "(12 rows affected)"
                    },
                    "metadata": {}
                },
                {
                    "output_type": "display_data",
                    "data": {
                        "text/html": "Total execution time: 00:00:00.126"
                    },
                    "metadata": {}
                }
            ],
            "execution_count": 6
        }
    ]
}